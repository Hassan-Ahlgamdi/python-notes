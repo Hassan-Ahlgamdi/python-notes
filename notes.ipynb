{
  "nbformat": 4,
  "nbformat_minor": 0,
  "metadata": {
    "colab": {
      "provenance": [],
      "collapsed_sections": [
        "x5NkERXcn3SU",
        "0l3FjQRZ4KQ2",
        "230_Q4Lb6M39"
      ],
      "authorship_tag": "ABX9TyP/DDdNDH3HaJNGmAfZTNAt",
      "include_colab_link": true
    },
    "kernelspec": {
      "name": "python3",
      "display_name": "Python 3"
    },
    "language_info": {
      "name": "python"
    }
  },
  "cells": [
    {
      "cell_type": "markdown",
      "metadata": {
        "id": "view-in-github",
        "colab_type": "text"
      },
      "source": [
        "<a href=\"https://colab.research.google.com/github/Hassan-Ahlgamdi/python-notes/blob/main/notes.ipynb\" target=\"_parent\"><img src=\"https://colab.research.google.com/assets/colab-badge.svg\" alt=\"Open In Colab\"/></a>"
      ]
    },
    {
      "cell_type": "markdown",
      "source": [
        "# here where i save my python notes for ml and data science"
      ],
      "metadata": {
        "id": "XA2LTcRaAe-o"
      }
    },
    {
      "cell_type": "markdown",
      "source": [
        "# Python Basics"
      ],
      "metadata": {
        "id": "cB3s4qUgdgWK"
      }
    },
    {
      "cell_type": "markdown",
      "source": [
        "## Data Collectoin types\n"
      ],
      "metadata": {
        "id": "x5NkERXcn3SU"
      }
    },
    {
      "cell_type": "markdown",
      "source": [
        "### Tuples\n"
      ],
      "metadata": {
        "id": "ztz524peFFhq"
      }
    },
    {
      "cell_type": "code",
      "source": [
        "\"\"\"\n",
        "  - an orderd sequence of values\n",
        "  - can containg diffrente data types and nested tuples\n",
        "  - immutable\n",
        "  - access the elements by it's indext\n",
        "  - provide slicing\n",
        "  - you can concatinate tuples\n",
        "\"\"\"\n",
        "tuple1 = (1,2,43,\"Hello world!\" , True, 3.14159)\n",
        "print(tuple1[0])\n",
        "\n",
        "tuple2  = (4  , 5 ,\" Hassan \" , False)\n",
        "concat_tuple = tuple1 + tuple2\n",
        "print(concat_tuple)\n",
        "\n",
        "tuple3 = (3,2,4,5,1,6,8,7)\n",
        "sorted_tuple = sorted(tuple3)\n",
        "print(sorted_tuple)\n",
        "\n",
        "tuple4 = (1,2,3, tuple1  , (\"one\" , \"two\"))\n",
        "print(tuple4[3][1])\n",
        "print(tuple4[4][0])\n",
        "print(len(concat_tuple))\n"
      ],
      "metadata": {
        "colab": {
          "base_uri": "https://localhost:8080/"
        },
        "id": "sTlwQuh2FHQf",
        "outputId": "f44a81bb-72c2-4ad0-9688-776c1a48f303"
      },
      "execution_count": null,
      "outputs": [
        {
          "output_type": "stream",
          "name": "stdout",
          "text": [
            "1\n",
            "(1, 2, 43, 'Hello world!', True, 3.14159, 4, 5, ' Hassan ', False)\n",
            "[1, 2, 3, 4, 5, 6, 7, 8]\n",
            "2\n",
            "one\n"
          ]
        }
      ]
    },
    {
      "cell_type": "markdown",
      "source": [
        "### Lists"
      ],
      "metadata": {
        "id": "ngvJZ3S_GuuN"
      }
    },
    {
      "cell_type": "code",
      "source": [
        "\"\"\"\n",
        " - orderd sequence of values\n",
        " - can containg diffrente data types and nested Lists and tuples\n",
        " - mutable\n",
        " - access the elements by it's indext\n",
        " - provide slicing\n",
        " - you can concatinate tuples => use list.extend([]) to add elements for the list\n",
        " - you can add one element => list.append([])\n",
        "\"\"\"\n",
        "\n",
        "list1 = [1,2,3,\"hassan\"]\n",
        "print(list1)\n",
        "\n",
        "# add one element at the end\n",
        "list1.append(\"Hello, world!\")\n",
        "print(list1)\n",
        "\n",
        "# delete an elment from the list\n",
        "del(list1[-1])\n",
        "print(list1)\n",
        "\n",
        "# add mutiple elements using extend\n",
        "list2 = [4,5,6]\n",
        "list1.extend(list2)\n",
        "print(list1)\n",
        "\n",
        "# change an element\n",
        "list1[3] = 0\n",
        "print(list1)\n"
      ],
      "metadata": {
        "colab": {
          "base_uri": "https://localhost:8080/"
        },
        "id": "xQmi9qKHGzxb",
        "outputId": "f28e4276-3b67-4aec-a246-ca75865ce4df"
      },
      "execution_count": null,
      "outputs": [
        {
          "output_type": "stream",
          "name": "stdout",
          "text": [
            "[1, 2, 3, 'hassan']\n",
            "[1, 2, 3, 'hassan', 'Hello, world!']\n",
            "[1, 2, 3, 'hassan']\n",
            "[1, 2, 3, 'hassan', 4, 5, 6]\n",
            "[1, 2, 3, 0, 4, 5, 6]\n"
          ]
        }
      ]
    },
    {
      "cell_type": "markdown",
      "source": [
        "### Dictionaries"
      ],
      "metadata": {
        "id": "uoPDPvpIN-tL"
      }
    },
    {
      "cell_type": "code",
      "source": [
        "\"\"\"\n",
        " - type of collection in python\n",
        " - contain Keys and values\n",
        " - Keys are immutable and uniqe 'like indext in tuples and lists'\n",
        "\"\"\"\n",
        "DICT = {\n",
        "    \"Hassan\" : 2004,\n",
        "    \"Ahmed baj\" : 2003,\n",
        "    \"Mohhamed\" : 2001\n",
        "}\n",
        "\n",
        "# access an element with its key\n",
        "print(DICT[\"Hassan\"])\n",
        "\n",
        "# print all keys\n",
        "print(DICT.keys())\n",
        "# print all values\n",
        "print(DICT.values())\n",
        "\n",
        "# delete an element\n",
        "del(DICT[\"Ahmed baj\"])\n",
        "print(DICT)\n",
        "\n",
        "# check if the key exist\n",
        "print(\"Hassan\" in DICT)\n",
        "print(\"Ahmed\" in DICT)\n",
        "\n",
        "# add element to the dictionary\n",
        "DICT[\"Khaled\"] = 1998\n",
        "print(DICT)\n",
        "\n",
        "print(list(DICT.keys()))"
      ],
      "metadata": {
        "colab": {
          "base_uri": "https://localhost:8080/"
        },
        "id": "bWusP2XUJImf",
        "outputId": "35b1b3ed-d0b5-416e-a86b-e3bcd778af20"
      },
      "execution_count": null,
      "outputs": [
        {
          "output_type": "stream",
          "name": "stdout",
          "text": [
            "2004\n",
            "dict_keys(['Hassan', 'Ahmed baj', 'Mohhamed'])\n",
            "dict_values([2004, 2003, 2001])\n",
            "{'Hassan': 2004, 'Mohhamed': 2001}\n",
            "True\n",
            "False\n",
            "{'Hassan': 2004, 'Mohhamed': 2001, 'Khaled': 1998}\n",
            "['Hassan', 'Mohhamed', 'Khaled']\n"
          ]
        }
      ]
    },
    {
      "cell_type": "markdown",
      "source": [
        "### Sets"
      ],
      "metadata": {
        "id": "Mcn1lOOsQxR4"
      }
    },
    {
      "cell_type": "code",
      "source": [
        "\"\"\"\n",
        " - unorderd collection of objects 'no element is repeted'\n",
        " - add using => set.add()\n",
        " - remove using => set.remove()\n",
        "\"\"\"\n",
        "\n",
        "setA = {\"Hassan\" , \"Khaled\" , \"bj\"}\n",
        "setB = {\"bj\", \"sarah\" , \"amal\"}\n",
        "# intersection\n",
        "print(setA & setB)\n",
        "# union\n",
        "print(setA.union(setB))\n",
        "# check if set is subset\n",
        "print(setA.issubset(setB))"
      ],
      "metadata": {
        "colab": {
          "base_uri": "https://localhost:8080/"
        },
        "id": "BhGhg5WWOxp-",
        "outputId": "c0895e5f-dd38-4d88-f832-14a809a14f42"
      },
      "execution_count": null,
      "outputs": [
        {
          "output_type": "stream",
          "name": "stdout",
          "text": [
            "{'bj'}\n",
            "{'Khaled', 'sarah', 'amal', 'Hassan', 'bj'}\n",
            "False\n"
          ]
        }
      ]
    },
    {
      "cell_type": "markdown",
      "source": [
        "## Objects and Classes in python"
      ],
      "metadata": {
        "id": "leMJJBO6nw0m"
      }
    },
    {
      "cell_type": "markdown",
      "source": [
        "#### access modifires for attributes and methods\n",
        "x => public and its the default \\\n",
        "_x => protected \\\n",
        "__x => private"
      ],
      "metadata": {
        "id": "0l3FjQRZ4KQ2"
      }
    },
    {
      "cell_type": "code",
      "source": [
        "class Employee:\n",
        "  def __init__(self , name , salary):\n",
        "    self.name = name\n",
        "    self.__salary = salary\n",
        "  def get_salary(self):\n",
        "    return self.__salary\n",
        "  def __private_method(self):\n",
        "    print(\"This is private method, you can't use it out of the class\")\n",
        "\n",
        "emp1 = Employee(\"hassan\", 100000)\n",
        "print(emp1.name)\n",
        "print(emp1.get_salary())\n",
        "# print(emp1.__salary) # this code will not work\n",
        "# emp1.private_method() # this code will not work"
      ],
      "metadata": {
        "colab": {
          "base_uri": "https://localhost:8080/"
        },
        "id": "3030jl8b4s-4",
        "outputId": "ced006fb-1c7b-4e60-bd3c-0a533938a180"
      },
      "execution_count": null,
      "outputs": [
        {
          "output_type": "stream",
          "name": "stdout",
          "text": [
            "hassan\n",
            "100000\n"
          ]
        }
      ]
    },
    {
      "cell_type": "markdown",
      "source": [
        "### general informations about oop in python"
      ],
      "metadata": {
        "id": "230_Q4Lb6M39"
      }
    },
    {
      "cell_type": "code",
      "source": [
        "# this is how to creat a class\n",
        "class Student :\n",
        "  university_name = \"KAU\" # static member or class member\n",
        "  # this is working as a constructor\n",
        "  def __init__(self, name, age, id, gpa): # self work as this in java i think\n",
        "    self.name = name\n",
        "    self.age = age\n",
        "    self.id = id\n",
        "    self.gpa = gpa\n",
        "  # every method should have 'self' as the first parameter in it, and it's refer to the object who is calling the method\n",
        "  def talk(self):\n",
        "    print(f\"this is me {self.name} talking\")\n",
        "\n",
        "  def grades(self):\n",
        "    print(f\"my GPA is {self.gpa}\")\n",
        "\n",
        "  def whatIsSelf(self):\n",
        "    print(self) # this will print the location of the object in the memory"
      ],
      "metadata": {
        "id": "NVqbxquoQyVZ"
      },
      "execution_count": null,
      "outputs": []
    },
    {
      "cell_type": "code",
      "source": [
        "# how to creat an object\n",
        "std1 = Student(\"Hassan Algamdi\", 20 , \"2335917\", 4.98)\n",
        "std1.talk()\n",
        "std1.grades()\n",
        "std1.whatIsSelf()\n",
        "\n",
        "# python allow adding new attributes after object creation even if this attribute not in the class\n",
        "std1.father = \"Bander\"\n",
        "print(std1.father) # now the attribute 'father' stored in std1 object, but when you creat new another object it will not have this attribute in it\n",
        "# delete 'father' attribute\n",
        "del std1.father\n",
        "# and you can delete an object\n",
        "del std1\n",
        "\n",
        "std2 = Student(\"sarah\", 21 , '123', 5)\n",
        "print(std2.university_name)\n",
        "\n",
        "# dir(std1) # similar to 'toString'"
      ],
      "metadata": {
        "colab": {
          "base_uri": "https://localhost:8080/"
        },
        "id": "dcaQXR3hwfWo",
        "outputId": "ca94657e-48ed-47d5-b180-97e7ef6bf9aa"
      },
      "execution_count": null,
      "outputs": [
        {
          "output_type": "stream",
          "name": "stdout",
          "text": [
            "this is me Hassan Algamdi talking\n",
            "my GPA is 4.98\n",
            "<__main__.Student object at 0x7c2b27403a00>\n",
            "Bander\n",
            "KAU\n"
          ]
        }
      ]
    },
    {
      "cell_type": "markdown",
      "source": [
        "### Inheritance\n",
        "- python allow multiple inheritance"
      ],
      "metadata": {
        "id": "MA_5KTc8BbmA"
      }
    },
    {
      "cell_type": "markdown",
      "source": [
        "#### super class"
      ],
      "metadata": {
        "id": "rqB7OW8BCSWg"
      }
    },
    {
      "cell_type": "code",
      "source": [
        "class Vehicle:\n",
        "  def __init__(self, company, owner, color, current_speed):\n",
        "    self.company = company\n",
        "    self.owner = owner\n",
        "    self.color = color\n",
        "    self.current_speed = current_speed\n",
        "\n",
        "  def move(self):\n",
        "    print(\"The vehicle has moved\")\n",
        "  def stop(self):\n",
        "    print(\"Tha vehicle has stopped\")"
      ],
      "metadata": {
        "id": "C72QFWJQBg-x"
      },
      "execution_count": null,
      "outputs": []
    },
    {
      "cell_type": "markdown",
      "source": [
        "#### child classes"
      ],
      "metadata": {
        "id": "P2QnzffoCWx9"
      }
    },
    {
      "cell_type": "code",
      "source": [
        "class Car(Vehicle): # this is how to inherite a class\n",
        "  def display(self):\n",
        "    print(\"This is car class\")\n",
        "  def move(self): # override\n",
        "    print(\"The car has moved\")\n",
        "  def stop(self): # override\n",
        "    print(\"The car has stopped\")\n",
        "\n",
        "class Pike(Vehicle):\n",
        "  def display(self):\n",
        "    print(\"This is Pike class\")\n",
        "  def move(self): # override\n",
        "    print(\"The pike has moved\")\n",
        "  def stop(self): # override\n",
        "    print(\"The pike has stopped\")\n",
        "\n",
        "# this example to show how super() and constructor inheritance work\n",
        "class Plane(Vehicle):\n",
        "  def __init__(self, company, owner, color, current_speed, number_of_travles):\n",
        "    super().__init__(company, owner, color, current_speed) # how to use super in python to call the parent constructor\n",
        "    self.number_of_travles = number_of_travles"
      ],
      "metadata": {
        "id": "HnnlqB2LCVe4"
      },
      "execution_count": null,
      "outputs": []
    },
    {
      "cell_type": "markdown",
      "source": [
        "#### main method\n",
        "there is no main method in python but to make it easier for me \"java programmer\""
      ],
      "metadata": {
        "id": "6VvsvLf2CzwD"
      }
    },
    {
      "cell_type": "code",
      "source": [
        "car1 = Car(\"Ford\", \"Bander\", \"Gold\", 100)\n",
        "pike1 = Pike(\"Mitsubishi\", \"Abdulrahman\", \"Black\", 0)\n",
        "car1.display()\n",
        "car1.move()\n",
        "pike1.display()\n",
        "pike1.stop()\n",
        "\n",
        "\"\"\"\n",
        "MRO 'method resolution order' اتوقع\n",
        "this is the method who is responsible of tracking the method calling in inheritenc classes\n",
        "to use it Enter the name of the class. mro()\n",
        "\"\"\"\n",
        "print(Pike.mro())\n",
        "p1 = Plane(\"Saudi planes\" , \"rich man\" , \"white\", 0 , 5)\n"
      ],
      "metadata": {
        "colab": {
          "base_uri": "https://localhost:8080/"
        },
        "id": "lMNd6t4rC98z",
        "outputId": "d96fe26e-b144-4e9d-cf04-4279f704d73b"
      },
      "execution_count": null,
      "outputs": [
        {
          "output_type": "stream",
          "name": "stdout",
          "text": [
            "This is car class\n",
            "The car has moved\n",
            "This is Pike class\n",
            "The pike has stopped\n",
            "[<class '__main__.Pike'>, <class '__main__.Vehicle'>, <class 'object'>]\n"
          ]
        }
      ]
    },
    {
      "cell_type": "code",
      "source": [],
      "metadata": {
        "id": "tOVl4WL2DVlT"
      },
      "execution_count": null,
      "outputs": []
    },
    {
      "cell_type": "markdown",
      "source": [
        "## Files in python\n",
        "\n",
        "\n"
      ],
      "metadata": {
        "id": "ishMgpLUIf4v"
      }
    },
    {
      "cell_type": "markdown",
      "source": [
        "\n",
        "to open file in python we use the following mehtod\n",
        "\n",
        "<pre>open(\"file Name\", \"mode\")</pre>\n",
        "mode: is what are we going to do with the file\n",
        "- \"r\" => only read from the file \"default value\".\n",
        "- \"w\" => read and write from the file, also can creat the file.\n",
        "- \"x\" => creat the file\n",
        "- \"a\" => append and write at the end of the file\n",
        "\n",
        "#### \"a\" vs \"w\"\n",
        "w: will delete everything in the file and write new things\n",
        "a: will append and write the new lines at the end of the file"
      ],
      "metadata": {
        "id": "-sILqDfbMYvH"
      }
    },
    {
      "cell_type": "code",
      "source": [
        "file = open(\"myfile.txt\", \"w\") # to creat the file\n",
        "file.write(\"Hello world!\") # to write anything in the file\n",
        "print(file.read()) # read from the file\n",
        "file.close() # cloes the file"
      ],
      "metadata": {
        "id": "_AQ1S67zIjdh"
      },
      "execution_count": null,
      "outputs": []
    },
    {
      "cell_type": "code",
      "source": [],
      "metadata": {
        "id": "CUzc9jdNLM5A"
      },
      "execution_count": null,
      "outputs": []
    },
    {
      "cell_type": "markdown",
      "source": [],
      "metadata": {
        "id": "YBO45czudwQe"
      }
    },
    {
      "cell_type": "markdown",
      "source": [
        "# **مكتبات**"
      ],
      "metadata": {
        "id": "Dn55RDXadxJ1"
      }
    },
    {
      "cell_type": "markdown",
      "source": [
        "## Numpy"
      ],
      "metadata": {
        "id": "ZaU1ek7ld0M_"
      }
    },
    {
      "cell_type": "code",
      "source": [
        "import numpy as np"
      ],
      "metadata": {
        "id": "X1Is9g0sdzHK"
      },
      "execution_count": 1,
      "outputs": []
    },
    {
      "cell_type": "code",
      "source": [
        "A = np.array([1,2,3,4,5]) # 1D array\n",
        "B = np.array([\n",
        "              [1,0],\n",
        "              [0,1]]) # 2D array\n",
        "C = np.array([[\n",
        "              [1,2,3],\n",
        "              [4,5,6],\n",
        "              [7,8,9]]]) # 3D array\n",
        "# print(A.dtype , B.dtype , C.dtype) int 64\n",
        "# print(A.ndim) 1\n",
        "# print(B.ndim) 2\n",
        "# print(C.ndim) 3\n",
        "print(A.shape, B.shape , C.shape)\n",
        "print(f\"items in A = {A.size} , items in B = {B.size} , items in C = {C.size}\")"
      ],
      "metadata": {
        "colab": {
          "base_uri": "https://localhost:8080/"
        },
        "id": "Sat4evGld4og",
        "outputId": "067f6db9-8da4-4133-a8a5-f1663cae5a8a"
      },
      "execution_count": 24,
      "outputs": [
        {
          "output_type": "stream",
          "name": "stdout",
          "text": [
            "(5,) (2, 2) (1, 3, 3)\n",
            "items in A = 5 , items in B = 4 , items in C = 9\n"
          ]
        }
      ]
    },
    {
      "cell_type": "code",
      "source": [
        "x = np.array([2.5 , 6.2])\n",
        "x.astype(int)"
      ],
      "metadata": {
        "colab": {
          "base_uri": "https://localhost:8080/"
        },
        "id": "9qjeMrLsd_eF",
        "outputId": "e38bdc93-c72b-4789-f2e4-378a2f985cc7"
      },
      "execution_count": 37,
      "outputs": [
        {
          "output_type": "execute_result",
          "data": {
            "text/plain": [
              "array([2, 6])"
            ]
          },
          "metadata": {},
          "execution_count": 37
        }
      ]
    },
    {
      "cell_type": "code",
      "source": [
        "s = np.array(['1' , '2' , '3'])\n",
        "s.dtype"
      ],
      "metadata": {
        "colab": {
          "base_uri": "https://localhost:8080/"
        },
        "id": "1tzuhOdWe5Fg",
        "outputId": "d2df3dcf-0591-4049-a199-dfaf7788f6ef"
      },
      "execution_count": 38,
      "outputs": [
        {
          "output_type": "execute_result",
          "data": {
            "text/plain": [
              "dtype('<U1')"
            ]
          },
          "metadata": {},
          "execution_count": 38
        }
      ]
    },
    {
      "cell_type": "code",
      "source": [
        "np.zeros((2,4))"
      ],
      "metadata": {
        "colab": {
          "base_uri": "https://localhost:8080/"
        },
        "id": "xjc0YNdzfegw",
        "outputId": "4a7ccbb4-a245-4d6f-af3f-70b389bceee3"
      },
      "execution_count": 42,
      "outputs": [
        {
          "output_type": "execute_result",
          "data": {
            "text/plain": [
              "array([[0., 0., 0., 0.],\n",
              "       [0., 0., 0., 0.]])"
            ]
          },
          "metadata": {},
          "execution_count": 42
        }
      ]
    },
    {
      "cell_type": "code",
      "source": [
        "np.ones((4,2))"
      ],
      "metadata": {
        "colab": {
          "base_uri": "https://localhost:8080/"
        },
        "id": "Me2cIO-skqAl",
        "outputId": "6697b890-652d-4cb5-bbf3-ef6645f4e27b"
      },
      "execution_count": 43,
      "outputs": [
        {
          "output_type": "execute_result",
          "data": {
            "text/plain": [
              "array([[1., 1.],\n",
              "       [1., 1.],\n",
              "       [1., 1.],\n",
              "       [1., 1.]])"
            ]
          },
          "metadata": {},
          "execution_count": 43
        }
      ]
    },
    {
      "cell_type": "code",
      "source": [
        "a = np.arange(4,9) # (start, stop , step)\n",
        "a"
      ],
      "metadata": {
        "colab": {
          "base_uri": "https://localhost:8080/"
        },
        "id": "J21rfCHOk2TU",
        "outputId": "1e803825-46c0-49c8-f2b8-e86bfec9a500"
      },
      "execution_count": 46,
      "outputs": [
        {
          "output_type": "execute_result",
          "data": {
            "text/plain": [
              "array([4, 5, 6, 7, 8])"
            ]
          },
          "metadata": {},
          "execution_count": 46
        }
      ]
    },
    {
      "cell_type": "code",
      "source": [
        "np.linspace(1,10,10) #(start , stop'enclodid', how many elemtns in the arary)"
      ],
      "metadata": {
        "colab": {
          "base_uri": "https://localhost:8080/"
        },
        "id": "pNhHyiHOnWs5",
        "outputId": "72274d5e-75b7-4060-b5c7-b37229930468"
      },
      "execution_count": 49,
      "outputs": [
        {
          "output_type": "execute_result",
          "data": {
            "text/plain": [
              "array([ 1.,  2.,  3.,  4.,  5.,  6.,  7.,  8.,  9., 10.])"
            ]
          },
          "metadata": {},
          "execution_count": 49
        }
      ]
    },
    {
      "cell_type": "code",
      "source": [
        "print(np.random.random((2,2)))\n",
        "print(\"#\" * 50)\n",
        "print(np.random.randn(2,1))\n",
        "print(\"#\" * 50)\n",
        "print(np.random.randint(1,100,(10,5)))"
      ],
      "metadata": {
        "colab": {
          "base_uri": "https://localhost:8080/"
        },
        "id": "ejEqa21Yndb5",
        "outputId": "08b81b60-ce9f-4364-bdfd-09be37cc9f76"
      },
      "execution_count": 56,
      "outputs": [
        {
          "output_type": "stream",
          "name": "stdout",
          "text": [
            "[[0.81566467 0.99181936]\n",
            " [0.42372711 0.23886006]]\n",
            "##################################################\n",
            "[[ 0.82431009]\n",
            " [-0.48268621]]\n",
            "##################################################\n",
            "[[73 30 30 95 48]\n",
            " [22 85 89 20 78]\n",
            " [93 88 82  3 77]\n",
            " [86 70 78 25 76]\n",
            " [68 85 91 97 65]\n",
            " [53 63 13 41 54]\n",
            " [73 90 32 12 47]\n",
            " [70 81  6 12 32]\n",
            " [96 75 70 97 97]\n",
            " [71 12 83  7 86]]\n"
          ]
        }
      ]
    },
    {
      "cell_type": "code",
      "source": [
        "print(np.full((2,2) , 11))\n",
        "print(\"#\" * 50)\n",
        "print(np.full((4,4) , [1,2,3,4]))\n",
        "print(\"#\" * 50)\n",
        "print(np.eye(4)) # identity matrix"
      ],
      "metadata": {
        "colab": {
          "base_uri": "https://localhost:8080/"
        },
        "id": "SUnywUUNoEgM",
        "outputId": "b29a29f8-1d32-4200-cc86-d5e7d2e05faa"
      },
      "execution_count": 59,
      "outputs": [
        {
          "output_type": "stream",
          "name": "stdout",
          "text": [
            "[[11 11]\n",
            " [11 11]]\n",
            "##################################################\n",
            "[[1 2 3 4]\n",
            " [1 2 3 4]\n",
            " [1 2 3 4]\n",
            " [1 2 3 4]]\n",
            "##################################################\n",
            "[[1. 0. 0. 0.]\n",
            " [0. 1. 0. 0.]\n",
            " [0. 0. 1. 0.]\n",
            " [0. 0. 0. 1.]]\n"
          ]
        }
      ]
    },
    {
      "cell_type": "code",
      "source": [
        "\"\"\"\n",
        " - shape manuplation :\n",
        "when having an array with shape (12) you can reshape it to (3,4) or (4,3) or (6,2) or (2,6)\n",
        "the size should equal to the first shape\n",
        "size = every dimension * others\n",
        "ex: shape(2,3,4) size => 2*3*4 = 24\n",
        "to reshape an arrya use\n",
        "nameOfTheArrya.reshape((size1,size2,...sizen))\n",
        "\n",
        " - to return the original shape use 'make it one dimension'\n",
        "nameOfTheArrya.flatten() or nameOfTheArrya.ravel()\n",
        "\n",
        "-  to make the rows columns and the columns row use 'transpose'\n",
        "nameOfTheArrya.transpose()\n",
        "\"\"\"\n",
        "a = np.arange(1,13)\n",
        "b = a.reshape((3,4))\n",
        "print(b)\n",
        "#print(a.reshape((3,3))) # this will cause an error\n",
        "print(b.transpose())"
      ],
      "metadata": {
        "colab": {
          "base_uri": "https://localhost:8080/"
        },
        "id": "5E8ofaDZorBz",
        "outputId": "e2e070df-db0b-4352-b3c2-7f9912aec7c3"
      },
      "execution_count": 72,
      "outputs": [
        {
          "output_type": "stream",
          "name": "stdout",
          "text": [
            "[[ 1  2  3  4]\n",
            " [ 5  6  7  8]\n",
            " [ 9 10 11 12]]\n",
            "[[ 1  5  9]\n",
            " [ 2  6 10]\n",
            " [ 3  7 11]\n",
            " [ 4  8 12]]\n"
          ]
        }
      ]
    },
    {
      "cell_type": "code",
      "source": [
        "\"\"\"\n",
        "Mathmatical operations between arrays\n",
        "a + b or np.add(a,b)\n",
        "a - b or np.subtract(a,b)\n",
        "a * b or np.multiply(a,b)\n",
        "a / b or np.divide(a,b)\n",
        "a ** b or np.power(a,b\n",
        "a % b or np.mod(a,b)\n",
        " 'the arrays should be in the same shape to perfrom theses opereations'\n",
        "\n",
        " - matrics multiplication use 'np.dot()'\n",
        "if the shape of matrics a is (x,4)\n",
        "the shape of be should (4,y)\n",
        "where x and y could be any number and the shape (x,y) is the result matrix\n",
        "#################################\n",
        "other usefull functions\n",
        "np.sin(a)\n",
        "np.cos(a)\n",
        "np.tan(a)\n",
        "np.exp(a)\n",
        "np.log(a)\n",
        "np.sqrt(a)\n",
        "np.sum(a)\n",
        "np.max(a)\n",
        "np.min(a)\n",
        "np.mean(a)\n",
        "np.median(a)\n",
        "np.std(a)\n",
        "np.var(a)\n",
        "\"\"\"\n",
        "a = np.array([\n",
        "    [1,2,3,4],\n",
        "    [5,6,7,8]\n",
        "])\n",
        "b = np.array([\n",
        "    [1,2],\n",
        "    [3,4],\n",
        "    [5,6],\n",
        "    [7,8]\n",
        "])\n",
        "np.dot(a,b) # or you can use a @ b"
      ],
      "metadata": {
        "id": "K_0gPuazueKz",
        "outputId": "daa71a2a-f3fe-4852-c04f-4c51197a79e9",
        "colab": {
          "base_uri": "https://localhost:8080/"
        }
      },
      "execution_count": 79,
      "outputs": [
        {
          "output_type": "execute_result",
          "data": {
            "text/plain": [
              "array([[ 50,  60],\n",
              "       [114, 140]])"
            ]
          },
          "metadata": {},
          "execution_count": 79
        }
      ]
    },
    {
      "cell_type": "code",
      "source": [],
      "metadata": {
        "id": "nUkQZ0S6ykjS"
      },
      "execution_count": null,
      "outputs": []
    }
  ]
}