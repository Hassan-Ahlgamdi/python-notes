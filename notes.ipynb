{
  "nbformat": 4,
  "nbformat_minor": 0,
  "metadata": {
    "colab": {
      "provenance": []
    },
    "kernelspec": {
      "name": "python3",
      "display_name": "Python 3"
    },
    "language_info": {
      "name": "python"
    }
  },
  "cells": [
    {
      "cell_type": "markdown",
      "source": [
        "# here where i save my python notes for ml and data science"
      ],
      "metadata": {
        "id": "XA2LTcRaAe-o"
      }
    },
    {
      "cell_type": "markdown",
      "source": [
        "### Tuples\n"
      ],
      "metadata": {
        "id": "ztz524peFFhq"
      }
    },
    {
      "cell_type": "code",
      "source": [
        "\"\"\"\n",
        "  - an orderd sequence of values\n",
        "  - can containg diffrente data types and nested tuples\n",
        "  - immutable\n",
        "  - access the elements by it's indext\n",
        "  - provide slicing\n",
        "  - you can concatinate tuples\n",
        "\"\"\"\n",
        "tuple1 = (1,2,43,\"Hello world!\" , True, 3.14159)\n",
        "print(tuple1[0])\n",
        "\n",
        "tuple2  = (4  , 5 ,\" Hassan \" , False)\n",
        "concat_tuple = tuple1 + tuple2\n",
        "print(concat_tuple)\n",
        "\n",
        "tuple3 = (3,2,4,5,1,6,8,7)\n",
        "sorted_tuple = sorted(tuple3)\n",
        "print(sorted_tuple)\n",
        "\n",
        "tuple4 = (1,2,3, tuple1  , (\"one\" , \"two\"))\n",
        "print(tuple4[3][1])\n",
        "print(tuple4[4][0])\n",
        "print(len(concat_tuple))\n"
      ],
      "metadata": {
        "colab": {
          "base_uri": "https://localhost:8080/"
        },
        "id": "sTlwQuh2FHQf",
        "outputId": "f44a81bb-72c2-4ad0-9688-776c1a48f303"
      },
      "execution_count": null,
      "outputs": [
        {
          "output_type": "stream",
          "name": "stdout",
          "text": [
            "1\n",
            "(1, 2, 43, 'Hello world!', True, 3.14159, 4, 5, ' Hassan ', False)\n",
            "[1, 2, 3, 4, 5, 6, 7, 8]\n",
            "2\n",
            "one\n"
          ]
        }
      ]
    },
    {
      "cell_type": "markdown",
      "source": [
        "### Lists"
      ],
      "metadata": {
        "id": "ngvJZ3S_GuuN"
      }
    },
    {
      "cell_type": "code",
      "source": [
        "\"\"\"\n",
        " - orderd sequence of values\n",
        " - can containg diffrente data types and nested Lists and tuples\n",
        " - mutable\n",
        " - access the elements by it's indext\n",
        " - provide slicing\n",
        " - you can concatinate tuples => use list.extend([]) to add elements for the list\n",
        " - you can add one element => list.append([])\n",
        "\"\"\"\n",
        "\n",
        "list1 = [1,2,3,\"hassan\"]\n",
        "print(list1)\n",
        "\n",
        "# add one element at the end\n",
        "list1.append(\"Hello, world!\")\n",
        "print(list1)\n",
        "\n",
        "# delete an elment from the list\n",
        "del(list1[-1])\n",
        "print(list1)\n",
        "\n",
        "# add mutiple elements using extend\n",
        "list2 = [4,5,6]\n",
        "list1.extend(list2)\n",
        "print(list1)\n",
        "\n",
        "# change an element\n",
        "list1[3] = 0\n",
        "print(list1)\n"
      ],
      "metadata": {
        "colab": {
          "base_uri": "https://localhost:8080/"
        },
        "id": "xQmi9qKHGzxb",
        "outputId": "f28e4276-3b67-4aec-a246-ca75865ce4df"
      },
      "execution_count": null,
      "outputs": [
        {
          "output_type": "stream",
          "name": "stdout",
          "text": [
            "[1, 2, 3, 'hassan']\n",
            "[1, 2, 3, 'hassan', 'Hello, world!']\n",
            "[1, 2, 3, 'hassan']\n",
            "[1, 2, 3, 'hassan', 4, 5, 6]\n",
            "[1, 2, 3, 0, 4, 5, 6]\n"
          ]
        }
      ]
    },
    {
      "cell_type": "markdown",
      "source": [
        "### Dictionaries"
      ],
      "metadata": {
        "id": "uoPDPvpIN-tL"
      }
    },
    {
      "cell_type": "code",
      "source": [
        "\"\"\"\n",
        " - type of collection in python\n",
        " - contain Keys and values\n",
        " - Keys are immutable and uniqe 'like indext in tuples and lists'\n",
        "\"\"\"\n",
        "DICT = {\n",
        "    \"Hassan\" : 2004,\n",
        "    \"Ahmed baj\" : 2003,\n",
        "    \"Mohhamed\" : 2001\n",
        "}\n",
        "\n",
        "# access an element with its key\n",
        "print(DICT[\"Hassan\"])\n",
        "\n",
        "# print all keys\n",
        "print(DICT.keys())\n",
        "# print all values\n",
        "print(DICT.values())\n",
        "\n",
        "# delete an element\n",
        "del(DICT[\"Ahmed baj\"])\n",
        "print(DICT)\n",
        "\n",
        "# check if the key exist\n",
        "print(\"Hassan\" in DICT)\n",
        "print(\"Ahmed\" in DICT)\n",
        "\n",
        "# add element to the dictionary\n",
        "DICT[\"Khaled\"] = 1998\n",
        "print(DICT)\n",
        "\n",
        "print(list(DICT.keys()))"
      ],
      "metadata": {
        "colab": {
          "base_uri": "https://localhost:8080/"
        },
        "id": "bWusP2XUJImf",
        "outputId": "35b1b3ed-d0b5-416e-a86b-e3bcd778af20"
      },
      "execution_count": null,
      "outputs": [
        {
          "output_type": "stream",
          "name": "stdout",
          "text": [
            "2004\n",
            "dict_keys(['Hassan', 'Ahmed baj', 'Mohhamed'])\n",
            "dict_values([2004, 2003, 2001])\n",
            "{'Hassan': 2004, 'Mohhamed': 2001}\n",
            "True\n",
            "False\n",
            "{'Hassan': 2004, 'Mohhamed': 2001, 'Khaled': 1998}\n",
            "['Hassan', 'Mohhamed', 'Khaled']\n"
          ]
        }
      ]
    },
    {
      "cell_type": "markdown",
      "source": [
        "### Sets"
      ],
      "metadata": {
        "id": "Mcn1lOOsQxR4"
      }
    },
    {
      "cell_type": "code",
      "source": [
        "\"\"\"\n",
        " - unorderd collection of objects 'no element is repeted'\n",
        " - add using => set.add()\n",
        " - remove using => set.remove()\n",
        "\"\"\"\n",
        "\n",
        "setA = {\"Hassan\" , \"Khaled\" , \"bj\"}\n",
        "setB = {\"bj\", \"sarah\" , \"amal\"}\n",
        "# intersection\n",
        "print(setA & setB)\n",
        "# union\n",
        "print(setA.union(setB))\n",
        "# check if set is subset\n",
        "print(setA.issubset(setB))"
      ],
      "metadata": {
        "colab": {
          "base_uri": "https://localhost:8080/"
        },
        "id": "BhGhg5WWOxp-",
        "outputId": "c0895e5f-dd38-4d88-f832-14a809a14f42"
      },
      "execution_count": null,
      "outputs": [
        {
          "output_type": "stream",
          "name": "stdout",
          "text": [
            "{'bj'}\n",
            "{'Khaled', 'sarah', 'amal', 'Hassan', 'bj'}\n",
            "False\n"
          ]
        }
      ]
    },
    {
      "cell_type": "code",
      "source": [],
      "metadata": {
        "id": "NVqbxquoQyVZ"
      },
      "execution_count": null,
      "outputs": []
    }
  ]
}